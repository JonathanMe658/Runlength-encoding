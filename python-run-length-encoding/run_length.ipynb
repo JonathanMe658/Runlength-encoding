{
 "cells": [
  {
   "cell_type": "code",
   "execution_count": 1,
   "metadata": {},
   "outputs": [],
   "source": [
    "import re"
   ]
  },
  {
   "cell_type": "code",
   "execution_count": 2,
   "metadata": {},
   "outputs": [],
   "source": [
    "string_list = 'AABBBCCC'\n",
    "string_list1 = '3A4C5BD'"
   ]
  },
  {
   "cell_type": "code",
   "execution_count": 3,
   "metadata": {},
   "outputs": [],
   "source": [
    "def encode(seq):\n",
    "    character = \"\"\n",
    "    result = \"\"\n",
    "    counter = 1\n",
    "    for n in range(len(seq)):\n",
    "        if n < len(seq) -1:\n",
    "            if seq[n] == seq[n + 1]:\n",
    "                counter += 1\n",
    "            else:\n",
    "                if counter > 1:\n",
    "                    result += str(counter)\n",
    "                result += seq[n]\n",
    "                counter = 1\n",
    "\n",
    "        else:\n",
    "            if counter > 1:\n",
    "                result += str(counter)\n",
    "            result += seq[n]\n",
    "            counter = 1\n",
    "    return result\n",
    "\n",
    "print(encode(string_list))\n"
   ]
  },
  {
   "cell_type": "code",
   "execution_count": 11,
   "metadata": {},
   "outputs": [],
   "source": [
    "def decode(seq):\n",
    "    result = \"\"\n",
    "    splitted_string = re.findall(\"(\\d*)?(.)\", seq)\n",
    "    for i in splitted_string:\n",
    "        if i[0] == '':\n",
    "            result += i[1]\n",
    "        else:\n",
    "            result += (int(i[0]) * i[1])\n",
    "    return result"
   ]
  },
  {
   "cell_type": "code",
   "execution_count": null,
   "metadata": {},
   "outputs": [],
   "source": []
  }
 ],
 "metadata": {
  "kernelspec": {
   "display_name": "Python 3",
   "language": "python",
   "name": "python3"
  },
  "language_info": {
   "codemirror_mode": {
    "name": "ipython",
    "version": 3
   },
   "file_extension": ".py",
   "mimetype": "text/x-python",
   "name": "python",
   "nbconvert_exporter": "python",
   "pygments_lexer": "ipython3",
   "version": "3.7.6"
  }
 },
 "nbformat": 4,
 "nbformat_minor": 4
}
